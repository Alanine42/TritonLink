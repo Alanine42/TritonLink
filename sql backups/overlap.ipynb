{
 "cells": [
  {
   "cell_type": "code",
   "execution_count": 1,
   "metadata": {},
   "outputs": [],
   "source": [
    "def overlaps(A, B):\n",
    "    a_start, a_end = A\n",
    "    b_start, b_end = B\n",
    "    return a_end > b_start and a_start < b_end\n",
    "\n",
    "\n",
    "\n"
   ]
  },
  {
   "cell_type": "code",
   "execution_count": 3,
   "metadata": {},
   "outputs": [
    {
     "name": "stdout",
     "output_type": "stream",
     "text": [
      "True\n",
      "True\n",
      "True\n",
      "True\n",
      "False\n",
      "False\n",
      "True\n"
     ]
    }
   ],
   "source": [
    "tests = [\n",
    "    [[0,10], [2,5]],\n",
    "    [[2,5],[0,10]],\n",
    "    [[0,6],[3,9]],\n",
    "    [[3,8], [0,4]],\n",
    "    [[0,10], [11,20]],\n",
    "    [[11,20], [0,10]],\n",
    "    [[0,10], [0,10]],\n",
    "    \n",
    "]\n",
    "\n",
    "for A, B in tests:\n",
    "    print(overlaps(A,B))"
   ]
  },
  {
   "cell_type": "code",
   "execution_count": null,
   "metadata": {},
   "outputs": [],
   "source": []
  }
 ],
 "metadata": {
  "kernelspec": {
   "display_name": "Python 3",
   "language": "python",
   "name": "python3"
  },
  "language_info": {
   "codemirror_mode": {
    "name": "ipython",
    "version": 3
   },
   "file_extension": ".py",
   "mimetype": "text/x-python",
   "name": "python",
   "nbconvert_exporter": "python",
   "pygments_lexer": "ipython3",
   "version": "3.8.5"
  },
  "orig_nbformat": 4
 },
 "nbformat": 4,
 "nbformat_minor": 2
}
